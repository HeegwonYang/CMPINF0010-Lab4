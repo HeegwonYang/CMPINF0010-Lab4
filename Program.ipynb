{
 "cells": [
  {
   "cell_type": "code",
   "execution_count": null,
   "metadata": {},
   "outputs": [],
   "source": [
    "name = input(\"Please input your name.\")\n",
    "print(\"Your name is: \", name)\n",
    "choice = input(\"Please input what you want to do with your name. ([c]apitalize, [l]owercase)\")\n",
    "\n",
    "# while choice is neither c nor l, repeat the choice line\n",
    "\n",
    "# if choice = c, capitalize name and print\n",
    "\n",
    "\n",
    "# if choice = l, lowercase name and print"
   ]
  }
 ],
 "metadata": {
  "kernelspec": {
   "display_name": "Python 3",
   "language": "python",
   "name": "python3"
  },
  "language_info": {
   "codemirror_mode": {
    "name": "ipython",
    "version": 3
   },
   "file_extension": ".py",
   "mimetype": "text/x-python",
   "name": "python",
   "nbconvert_exporter": "python",
   "pygments_lexer": "ipython3",
   "version": "3.8.3"
  }
 },
 "nbformat": 4,
 "nbformat_minor": 4
}
